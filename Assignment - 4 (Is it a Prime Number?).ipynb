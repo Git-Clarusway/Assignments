{
 "cells": [
  {
   "cell_type": "code",
   "execution_count": 5,
   "metadata": {},
   "outputs": [
    {
     "output_type": "stream",
     "name": "stdout",
     "text": "2 is a prime number\n"
    }
   ],
   "source": [
    "# Assignment - 4 (Is it a Prime Number?) is due\n",
    "# Task : Write a program that takes a number from the user and prints the result to check if it is a prime number.\n",
    "\n",
    "# The examples of the desired output are as follows :\n",
    "# input →  19 ⇉ output : 19 is a prime number\n",
    "# input →  10 ⇉ output : 10 is not a prime number\n",
    "n=int(input('Please enter a number : '))\n",
    "if n>=2:\n",
    "    for i in range(2,n):\n",
    "        if (n%i)==0:\n",
    "            a=f'{n} is not a prime number'\n",
    "            break\n",
    "    else:\n",
    "        a=f'{n} is a prime number'\n",
    "else:\n",
    "    a='Number must be greater than 1 see later...'\n",
    "print(a)"
   ]
  },
  {
   "cell_type": "code",
   "execution_count": null,
   "metadata": {},
   "outputs": [],
   "source": []
  }
 ],
 "metadata": {
  "language_info": {
   "codemirror_mode": {
    "name": "ipython",
    "version": 3
   },
   "file_extension": ".py",
   "mimetype": "text/x-python",
   "name": "python",
   "nbconvert_exporter": "python",
   "pygments_lexer": "ipython3",
   "version": "3.8.2-final"
  },
  "orig_nbformat": 2,
  "kernelspec": {
   "name": "python38264bit2d5236eee77a4df4ac120aaa40c7d773",
   "display_name": "Python 3.8.2 64-bit"
  }
 },
 "nbformat": 4,
 "nbformat_minor": 2
}