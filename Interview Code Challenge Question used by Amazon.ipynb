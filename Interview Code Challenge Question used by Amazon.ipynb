{
 "cells": [
  {
   "cell_type": "code",
   "execution_count": 1,
   "metadata": {},
   "outputs": [
    {
     "output_type": "stream",
     "name": "stdout",
     "text": "MMMCMXCIX\n"
    }
   ],
   "source": [
    "# Hello everyone. Here is another \n",
    "# Interview Code Challenge Question used by Amazon, Bloomberg, Apple, Google, Linkedln, Paypal, Adobe\n",
    "# :python:                                                :python:                                         :python:\n",
    "# Roman numerals are represented by seven different symbols: I, V, X, L, C, D and M.\n",
    "# Symbol       Value\n",
    "# I             1\n",
    "# V             5\n",
    "# X             10\n",
    "# L             50\n",
    "# C             100\n",
    "# D             500\n",
    "# M             1000\n",
    "# For example, two is written as II in Roman numeral, just two one's added together. \n",
    "# Twelve is written as, XII, which is simply X + II. The number twenty seven is written as XXVII, which is XX + V + II.\n",
    "# Roman numerals are usually written largest to smallest from left to right. \n",
    "# However, the numeral for four is not IIII. Instead, the number four is written as IV. \n",
    "# Because the one is before the five we subtract it making four. The same principle applies to the number nine, which is written as IX.\n",
    "# There are six instances where subtraction is used:\n",
    "# I can be placed before V (5) and X (10) to make 4 and 9. \n",
    "# X can be placed before L (50) and C (100) to make 40 and 90. \n",
    "# C can be placed before D (500) and M (1000) to make 400 and 900.\n",
    "# -----------------------------------------------------------------------\n",
    "# Given an integer, convert it to a roman numeral. Input is guaranteed to be within the range from 1 to 3999.\n",
    "# Example 1:\n",
    "# Input: 3\n",
    "# Output: \"III\"=>I*3\n",
    "# Example 2:\n",
    "# Input: 4\n",
    "# Output: \"IV\" \n",
    "# Example 3:\n",
    "# Input: 9\n",
    "# Output: \"IX\"\n",
    "# Example 4:\n",
    "# Input: 58\n",
    "# Output: \"LVIII\"#=>LV+I*3\n",
    "# Explanation: L = 50, V = 5, III = 3.\n",
    "# Example 5:\n",
    "# Input: 1994\n",
    "# Output: \"MCMXCIV\"\n",
    "# Explanation: M = 1000, CM = 900, XC = 90 and IV = 4.\n",
    "# Note ::bangbang: I expect for your responses via private direct message.\n",
    "s={1:\"I\", 5:\"V\", 10:\"X\", 50:\"L\", 100:\"C\", 500:\"D\", 1000:\"M\", 4:\"IV\", 9:\"IX\", 40:\"XL\", 90:\"XC\", 400:\"CD\", 900:\"CM\"}\n",
    "# k=\"3\"#=>III\n",
    "# k=\"4\"#=>IV\n",
    "# k=\"9\"#=>IX\n",
    "# k=\"58\"#=>LVIII\n",
    "# k=\"1994\"#=>MCMXCIV\n",
    "k=\"3999\"\n",
    "k=[*k]\n",
    "k.reverse()\n",
    "t=[]\n",
    "for i,j in enumerate(k):\n",
    "    if (10**i)*int(j) not in s:\n",
    "        if int(j)<5:\n",
    "            t.append(s[10**i]*int(j))\n",
    "        elif int(j)>5:\n",
    "            t.append(s[5]+s[1]*(int(j)-5))\n",
    "    else:\n",
    "        t.append(s[(10**i)*int(j)])\n",
    "t.reverse()\n",
    "print(\"\".join(t))"
   ]
  }
 ],
 "metadata": {
  "language_info": {
   "codemirror_mode": {
    "name": "ipython",
    "version": 3
   },
   "file_extension": ".py",
   "mimetype": "text/x-python",
   "name": "python",
   "nbconvert_exporter": "python",
   "pygments_lexer": "ipython3",
   "version": "2.7.16-final"
  },
  "orig_nbformat": 2,
  "kernelspec": {
   "name": "python38264bit226b40286a2144b6b2dfde2fcc920a58",
   "display_name": "Python 3.8.2 64-bit"
  }
 },
 "nbformat": 4,
 "nbformat_minor": 2
}