{
 "cells": [
  {
   "cell_type": "code",
   "execution_count": null,
   "metadata": {},
   "outputs": [],
   "source": [
    "# Task: The department you work for has received a project that displays the solved sudoku puzzles in a digital environment. \n",
    "# Write a Python code to print out the given sudoku puzzle matrix in the following format.\n",
    "# Given format :\n",
    "# sudoku = [\n",
    "#     [0, 0, 0, 0, 6, 4, 0, 0, 0],\n",
    "#     [7, 0, 0, 0, 0, 0, 3, 9, 0],\n",
    "#     [8, 0, 0, 0, 0, 0, 0, 0, 0],\n",
    "#     [0, 0, 0, 5, 0, 2, 0, 6, 0],\n",
    "#     [0, 8, 0, 4, 0, 0, 0, 0, 0],\n",
    "#     [3, 5, 0, 6, 0, 0, 0, 7, 0],\n",
    "#     [0, 0, 2, 0, 0, 0, 1, 0, 3],\n",
    "#     [0, 0, 1, 0, 5, 9, 0, 0, 0],\n",
    "#     [0, 0, 0, 0, 0, 0, 7, 0, 0]\n",
    "# ]\n",
    "# Desired output format :\n",
    "# - - - - - - - - - - - - - - - \n",
    "# 0  0  0  | 0  6  4  | 0  0  0  \n",
    "# 7  0  0  | 0  0  0  | 3  9  0  \n",
    "# 8  0  0  | 0  0  0  | 0  0  0  \n",
    "# - - - - - - - - - - - - - - - \n",
    "# 0  0  0  | 5  0  2  | 0  6  0  \n",
    "# 0  8  0  | 4  0  0  | 0  0  0  \n",
    "# 3  5  0  | 6  0  0  | 0  7  0  \n",
    "# - - - - - - - - - - - - - - - \n",
    "# 0  0  2  | 0  0  0  | 1  0  3  \n",
    "# 0  0  1  | 0  5  9  | 0  0  0  \n",
    "# 0  0  0  | 0  0  0  | 7  0  0  \n",
    "# - - - - - - - - - - - - - - -\n",
    "\n",
    "# Note that; use not more than \"control flow statement and boolean logic operators\" in solving this code problem."
   ]
  },
  {
   "cell_type": "code",
   "execution_count": 1,
   "metadata": {},
   "outputs": [
    {
     "output_type": "stream",
     "name": "stdout",
     "text": "- - - - - - - - - - - - - - - \n0  0  0  | 0  6  4  | 0  0  0  \n7  0  0  | 0  0  0  | 3  9  0  \n8  0  0  | 0  0  0  | 0  0  0  \n- - - - - - - - - - - - - - - \n0  0  0  | 5  0  2  | 0  6  0  \n0  8  0  | 4  0  0  | 0  0  0  \n3  5  0  | 6  0  0  | 0  7  0  \n- - - - - - - - - - - - - - - \n0  0  2  | 0  0  0  | 1  0  3  \n0  0  1  | 0  5  9  | 0  0  0  \n0  0  0  | 0  0  0  | 7  0  0  \n- - - - - - - - - - - - - - - \n"
    }
   ],
   "source": [
    "sudoku = [\n",
    "    [0, 0, 0, 0, 6, 4, 0, 0, 0], #=>[0][0] [0][1] [0][2] | [0][3] [0][4] [0][5] | [0][6] [0][7] [0][8]  => [0][0:3] | [0][3:6] | [0][6:9]\n",
    "    [7, 0, 0, 0, 0, 0, 3, 9, 0], #=>[1][0] [1][1] [1][2] | [1][3] [1][4] [1][5] | [1][6] [1][7] [1][8]  => [1][0:3] | [1][3:6] | [1][6:9]\n",
    "    [8, 0, 0, 0, 0, 0, 0, 0, 0], #=>[2][0] [2][1] [2][2] | [2][3] [2][4] [2][5] | [2][6] [2][7] [2][8]  => [2][0:3] | [2][3:6] | [2][6:9]\n",
    "    [0, 0, 0, 5, 0, 2, 0, 6, 0], #=>- - - - - - - - - - - - - - - - - - - - - - - - - - -  - - - - - - - - - - - - - - - - - - - - - - - \n",
    "    [0, 8, 0, 4, 0, 0, 0, 0, 0],\n",
    "    [3, 5, 0, 6, 0, 0, 0, 7, 0],\n",
    "    [0, 0, 2, 0, 0, 0, 1, 0, 3],\n",
    "    [0, 0, 1, 0, 5, 9, 0, 0, 0],\n",
    "    [0, 0, 0, 0, 0, 0, 7, 0, 0]\n",
    "]\n",
    "print('- '*15)\n",
    "for j in range(0,len(sudoku),3):\n",
    "    for i in range(j,j+3):\n",
    "        for k in range(3):\n",
    "            print(sudoku[i][k],end='  ')\n",
    "        print('|',end=' ')  \n",
    "        for k in range(3,6):\n",
    "            print(sudoku[i][k],end='  ')\n",
    "        print('|',end=' ')\n",
    "        for k in range(6,9):\n",
    "            print(sudoku[i][k],end='  ')\n",
    "        print(end='\\n')\n",
    "    print('- '*15)"
   ]
  }
 ],
 "metadata": {
  "language_info": {
   "codemirror_mode": {
    "name": "ipython",
    "version": 3
   },
   "file_extension": ".py",
   "mimetype": "text/x-python",
   "name": "python",
   "nbconvert_exporter": "python",
   "pygments_lexer": "ipython3",
   "version": "3.8.2-final"
  },
  "orig_nbformat": 2,
  "kernelspec": {
   "name": "python38264bit2d5236eee77a4df4ac120aaa40c7d773",
   "display_name": "Python 3.8.2 64-bit"
  }
 },
 "nbformat": 4,
 "nbformat_minor": 2
}