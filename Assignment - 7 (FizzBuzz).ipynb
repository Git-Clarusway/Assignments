{
 "cells": [
  {
   "cell_type": "code",
   "execution_count": null,
   "metadata": {},
   "outputs": [],
   "source": [
    "# Assignment - 7 (FizzBuzz)\n",
    "# Tuesday, 12 May, 12:56 PM\n",
    "# Course event\n",
    "# 💡Objective:\n",
    "# To improve your control flow statement skills and to raise your awareness of some arithmetic knowledge.\n",
    "# Write a Python code on any IDE, push it up to your GitHub repository and submit the GitHub page link address in addition to your code (answer) as a plain text.\n",
    " \n",
    "# Task : Print the FizzBuzz numbers.\n",
    "\n",
    "# FizzBuzz is a famous code challenge used in interviews to test basic programming skills. It's time to write your own implementation.\n",
    "# Print numbers from 1 to 100 inclusively following these instructions:\n",
    "# if a number is multiple of 3, print \"Fizz\" instead of this number,==>3,6,9,12,\"15\",18,21==>N%3==0 and N%15!=0\n",
    "# if a number is multiple of 5, print \"Buzz\" instead of this number,==>5,10,15,20===>N%5==0 and N%15!=0\n",
    "# for numbers that are multiples of both 3 and 5, print \"FizzBuzz\", ==>N%15==0\n",
    "# print the rest of the numbers unchanged.\n",
    "# Output each value on a separate line.\n",
    "# Note that : This question is famous on the web, so to get more benefit from this assignment, try to complete this task on your own.\n",
    "for i in range(1,100):\n",
    "    if i%3==0 and i%15!=0:\n",
    "        print(\"Fizz\")\n",
    "    elif i%5==0 and i%15!=0:\n",
    "        print(\"Buzz\")\n",
    "    elif i%15==0:\n",
    "        print(\"FizzBuzz\")\n",
    "    else:\n",
    "        print(i)"
   ]
  }
 ],
 "metadata": {
  "language_info": {
   "codemirror_mode": {
    "name": "ipython",
    "version": 3
   },
   "file_extension": ".py",
   "mimetype": "text/x-python",
   "name": "python",
   "nbconvert_exporter": "python",
   "pygments_lexer": "ipython3",
   "version": 3
  },
  "orig_nbformat": 2
 },
 "nbformat": 4,
 "nbformat_minor": 2
}