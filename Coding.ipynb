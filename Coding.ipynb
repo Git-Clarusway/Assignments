{
 "cells": [
  {
   "cell_type": "code",
   "execution_count": 27,
   "metadata": {},
   "outputs": [
    {
     "output_type": "execute_result",
     "data": {
      "text/plain": "['()()()()',\n '()()(())',\n '()(())()',\n '()(()())',\n '()((()))',\n '(())()()',\n '(())(())',\n '(()())()',\n '((()))()',\n '(()()())',\n '(()(()))',\n '((())())',\n '((()()))',\n '(((())))']"
     },
     "metadata": {},
     "execution_count": 27
    }
   ],
   "source": [
    "# Given ​n​ pairs of parentheses, write a code to generate all combinations of well-formed(valid for Python) parentheses.For example, given ​n​ = 3​, a solution set is:[ \"((()))\", \"(()())\", \"(())()\", \"()(())\", \"()()()\"]\n",
    "# Example Solution:\n",
    "n=4\n",
    "# Initialize the history list\n",
    "seen = [[] for i in range(n + 1)]\n",
    "seen[0].append(\"\")\n",
    "if n == 0: [\"\"]\n",
    "# Generate the history from 1 pair case\n",
    "for i in range(1, n + 1):\n",
    "# c is the number of pairs in left part\n",
    "        for c in range(i):\n",
    "# Iterate through all the possible cases for left and right:      \n",
    "                    for left in seen[c]:           \n",
    "                        for right in seen[i - 1 - c]:              \n",
    "                            seen[i].append('(' + left + ')' + right)\n",
    "seen[-1]"
   ]
  }
 ],
 "metadata": {
  "language_info": {
   "codemirror_mode": {
    "name": "ipython",
    "version": 3
   },
   "file_extension": ".py",
   "mimetype": "text/x-python",
   "name": "python",
   "nbconvert_exporter": "python",
   "pygments_lexer": "ipython3",
   "version": "3.8.2-final"
  },
  "orig_nbformat": 2,
  "kernelspec": {
   "name": "python38264bit2d5236eee77a4df4ac120aaa40c7d773",
   "display_name": "Python 3.8.2 64-bit"
  }
 },
 "nbformat": 4,
 "nbformat_minor": 2
}