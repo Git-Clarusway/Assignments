{
 "cells": [
  {
   "cell_type": "code",
   "execution_count": 3,
   "metadata": {},
   "outputs": [
    {
     "output_type": "stream",
     "name": "stdout",
     "text": "{'h': 1, 'i': 1, 'p': 2, 'o': 2, ' ': 3, 'r': 1, 'u': 2, 'n': 1, 's': 2, 't': 1, '!': 1}\n"
    }
   ],
   "source": [
    "# Assignment - 9 (Letters)\n",
    "# Task:\n",
    "# Count the number of each letter in a sentence.\n",
    "# The department you work for undertook a project construction that makes word / text analysis. You are asked to calculate the number of letters or any chars in the sentences entered under this project.\n",
    "# Write a Python program that;\n",
    "# takes a sentence from the user,\n",
    "# counts the number of each letter of the sentence,\n",
    "# collects the letters/chars as a key and the counted numbers as a value in a dictionary.\n",
    "a=\"hippo runs to us!\"\n",
    "k={i:0 for i in a}\n",
    "for i in a:k[i]+=1\n",
    "print(k)"
   ]
  }
 ],
 "metadata": {
  "language_info": {
   "codemirror_mode": {
    "name": "ipython",
    "version": 3
   },
   "file_extension": ".py",
   "mimetype": "text/x-python",
   "name": "python",
   "nbconvert_exporter": "python",
   "pygments_lexer": "ipython3",
   "version": "3.8.2-final"
  },
  "orig_nbformat": 2,
  "kernelspec": {
   "name": "python38264bit2d5236eee77a4df4ac120aaa40c7d773",
   "display_name": "Python 3.8.2 64-bit"
  }
 },
 "nbformat": 4,
 "nbformat_minor": 2
}