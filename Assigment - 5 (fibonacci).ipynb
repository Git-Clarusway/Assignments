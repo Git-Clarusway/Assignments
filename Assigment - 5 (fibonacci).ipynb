{
 "cells": [
  {
   "cell_type": "code",
   "execution_count": 66,
   "metadata": {},
   "outputs": [
    {
     "output_type": "stream",
     "name": "stdout",
     "text": "fibonacci →  [1, 1, 2, 3, 5, 8, 13, 21, 34, 55]\n"
    }
   ],
   "source": [
    "# Assignment - 5 (Fibonacci)\n",
    "# Task : Create a list consisting of Fibonacci numbers from 1 to 55. \n",
    "\n",
    "# The desired output is like :\n",
    "\n",
    "# fibonacci →  [1, 1, 2, 3, 5, 8, 13, 21, 34, 55]\n",
    "#0,1,1,2,3,5,8,13,21,34,55===>inedex[2]=[1]+[0],\n",
    "#0,1,2,3,4,5,6,7,8,9,10==>k[7]=k[6]+k[5]-->k[n]=k[n-1]+k[n-2]\n",
    "   # a = [0,1]\n",
    "# a.append(a[0]+a[1])\n",
    "# a.append(a[1]+a[2])\n",
    "# a.append(a[2]+a[3])\n",
    "# a.append(a[3]+a[4])\n",
    "# print(a)\n",
    "\n",
    "a = [0,1]\n",
    "for i in range(9):\n",
    "    a.append(a[i]+a[i+1])\n",
    "print(f'fibonacci →  {a[1:]}')"
   ]
  }
 ],
 "metadata": {
  "language_info": {
   "codemirror_mode": {
    "name": "ipython",
    "version": 3
   },
   "file_extension": ".py",
   "mimetype": "text/x-python",
   "name": "python",
   "nbconvert_exporter": "python",
   "pygments_lexer": "ipython3",
   "version": "3.8.2-final"
  },
  "orig_nbformat": 2,
  "kernelspec": {
   "name": "python38264bit2d5236eee77a4df4ac120aaa40c7d773",
   "display_name": "Python 3.8.2 64-bit"
  }
 },
 "nbformat": 4,
 "nbformat_minor": 2
}