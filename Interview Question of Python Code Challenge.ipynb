{
 "cells": [
  {
   "cell_type": "code",
   "execution_count": 1,
   "metadata": {},
   "outputs": [
    {
     "output_type": "execute_result",
     "data": {
      "text/plain": "49"
     },
     "metadata": {},
     "execution_count": 1
    }
   ],
   "source": [
    "# Here is another Interview Question of Python Code Challenge asked by Amazon,Goldman Sachs,Adobe,Apple,Google,Facebook,Yahoo,Microsoft,ByteDance,Bloomberg\n",
    "# Given n non-negative integers a1, a2, ..., an , where each represents a point at coordinate (i, ai). n vertical lines are drawn such that the two endpoints of line i is at (i, ai) and (i, 0). Find two lines, which together with x-axis forms a container, such that the container contains the most water.\n",
    "# Note: You may not slant the container and n is at least 2.\n",
    "i=[1,1,1]\n",
    "# i=[1,1]\n",
    "# i=[1,1,2]\n",
    "# i=[3, 1, 2, 4, 5]\n",
    "# i=[1,8,6,2,5,4,8,3,7]\n",
    "i=[1,8,6,2,5,4,8,3,7]\n",
    "max([abs(i[n]*(n-i.index(max(i)))) for n in range(len(i))])"
   ]
  }
 ],
 "metadata": {
  "language_info": {
   "codemirror_mode": {
    "name": "ipython",
    "version": 3
   },
   "file_extension": ".py",
   "mimetype": "text/x-python",
   "name": "python",
   "nbconvert_exporter": "python",
   "pygments_lexer": "ipython3",
   "version": "3.8.2-final"
  },
  "orig_nbformat": 2,
  "kernelspec": {
   "name": "python38264bit2d5236eee77a4df4ac120aaa40c7d773",
   "display_name": "Python 3.8.2 64-bit"
  }
 },
 "nbformat": 4,
 "nbformat_minor": 2
}