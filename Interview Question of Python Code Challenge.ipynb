{
 "cells": [
  {
   "cell_type": "code",
   "execution_count": 1,
   "metadata": {},
   "outputs": [
    {
     "output_type": "execute_result",
     "data": {
      "text/plain": "49"
     },
     "metadata": {},
     "execution_count": 1
    }
   ],
   "source": [
    "# Given n non-negative integers a1, a2, ..., an , where each represents a point at coordinate \n",
    "# (i, ai). n vertical lines are drawn such that the two endpoints of line i is at (i, ai) and (i, 0). \n",
    "# Find two lines, which together with x-axis forms a container, such that the \n",
    "# container contains the most water.\n",
    "# Note: You may not slant the container and n is at least 2.\n",
    "# i=[1,1,1]=min(i[0],i[1])*(0-1) for i,j in zip(range(len(i),range(1,len(i)))\n",
    "# i=[1,1]\n",
    "# i=[1,1,2]\n",
    "# i=[3, 1, 2, 4, 5]\n",
    "# i=[1,8,6,2,5,4,8,3,7]\n",
    "# l=[1,2,1]\n",
    "l=[1,8,6,2,5,4,8,3,7]\n",
    "max(min(j,p)*(i-k) for i,j in enumerate(l) for k,p in enumerate(l))"
   ]
  }
 ],
 "metadata": {
  "language_info": {
   "codemirror_mode": {
    "name": "ipython",
    "version": 3
   },
   "file_extension": ".py",
   "mimetype": "text/x-python",
   "name": "python",
   "nbconvert_exporter": "python",
   "pygments_lexer": "ipython3",
   "version": "3.8.2-final"
  },
  "orig_nbformat": 2,
  "kernelspec": {
   "name": "python38264bit226b40286a2144b6b2dfde2fcc920a58",
   "display_name": "Python 3.8.2 64-bit"
  }
 },
 "nbformat": 4,
 "nbformat_minor": 2
}