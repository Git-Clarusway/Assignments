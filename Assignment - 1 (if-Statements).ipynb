{
 "cells": [
  {
   "cell_type": "code",
   "execution_count": null,
   "metadata": {},
   "outputs": [],
   "source": [
    "name = {'Joseph':'@12'}\n",
    "user_name = input('You need to enter your name and the program should recognize you : ')\n",
    "if user_name in name :\n",
    "  print(f'Hello, {user_name}! The password is : {name[user_name]}' )\n",
    "else:\n",
    "  print(f'Hello, {user_name}! See you later.')"
   ]
  }
 ],
 "metadata": {
  "language_info": {
   "codemirror_mode": {
    "name": "ipython",
    "version": 3
   },
   "file_extension": ".py",
   "mimetype": "text/x-python",
   "name": "python",
   "nbconvert_exporter": "python",
   "pygments_lexer": "ipython3",
   "version": 3
  },
  "orig_nbformat": 2
 },
 "nbformat": 4,
 "nbformat_minor": 2
}