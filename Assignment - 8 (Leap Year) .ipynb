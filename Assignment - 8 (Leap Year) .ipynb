{
 "cells": [
  {
   "cell_type": "code",
   "execution_count": 6,
   "metadata": {},
   "outputs": [
    {
     "output_type": "stream",
     "name": "stdout",
     "text": "2019  is not a leap year\n"
    }
   ],
   "source": [
    "# Task:\n",
    "# Find out if a given year is a \"leap\" year.\n",
    "\n",
    "# In the Gregorian calendar, three criteria must be taken into account to identify leap years:\n",
    "# The year must be evenly divisible by 4;\n",
    "# If the year can also be evenly divided by 100, it is not a leap year; unless...\n",
    "# The year is also evenly divisible by 400. Then it is a leap year.\n",
    "# According to these rules, the years 2000 and 2400 are leap years, while 1800, 1900, 2100, 2200, 2300, and 2500 are not the leap years.\n",
    "# Write a Python program that prints such as \"2020 is a leap year\" if the given year by the user is a leap year, prints such as \"2019 is not a leap year\" otherwise.\n",
    "year=2019\n",
    "if year % 4 == 0 and (year % 400 == 0 or year % 100 != 0) and 1900 <= year and year <= 10**5 :\n",
    "        a= f\"{year} is a leap year\"\n",
    "else:      \n",
    "        a= f\"{year}  is not a leap year\"\n",
    "print(a)"
   ]
  }
 ],
 "metadata": {
  "language_info": {
   "codemirror_mode": {
    "name": "ipython",
    "version": 3
   },
   "file_extension": ".py",
   "mimetype": "text/x-python",
   "name": "python",
   "nbconvert_exporter": "python",
   "pygments_lexer": "ipython3",
   "version": "3.8.2-final"
  },
  "orig_nbformat": 2,
  "kernelspec": {
   "name": "python38264bit2d5236eee77a4df4ac120aaa40c7d773",
   "display_name": "Python 3.8.2 64-bit"
  }
 },
 "nbformat": 4,
 "nbformat_minor": 2
}