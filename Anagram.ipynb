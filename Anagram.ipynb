{
 "cells": [
  {
   "cell_type": "code",
   "execution_count": 1,
   "metadata": {},
   "outputs": [
    {
     "output_type": "stream",
     "name": "stdout",
     "text": "[['eat', 'tea', 'ate'], ['tan', 'nat'], ['bat']]\n"
    }
   ],
   "source": [
    "# Group Anagrams \n",
    "# Given a list of strings, group anagrams together.\n",
    "# Example:\n",
    "# Input: [\"eat\", \"tea\", \"tan\", \"ate\", \"nat\", \"bat\"],==>pick and then ckeck previous one\n",
    "# Output:\n",
    "# [\n",
    "#   [\"ate\",\"eat\",\"tea\"],\n",
    "#   [\"nat\",\"tan\"],\n",
    "#   [\"bat\"]\n",
    "# ]\n",
    "# Note:\n",
    "# All inputs will be in lowercase.\n",
    "# The order of your output does not matter.# Group Anagrams \n",
    "# Given a list of strings, group anagrams together.\n",
    "# Example:\n",
    "# Input: [\"eat\", \"tea\", \"tan\", \"ate\", \"nat\", \"bat\"],==>pick and then ckeck previous one\n",
    "# Output:\n",
    "# [\n",
    "#   [\"ate\",\"eat\",\"tea\"],\n",
    "#   [\"nat\",\"tan\"],\n",
    "#   [\"bat\"]\n",
    "# ]\n",
    "# Note:\n",
    "# All inputs will be in lowercase.\n",
    "# The order of your output does not matter.\n",
    "l=[\"eat\", \"tea\", \"tan\", \"ate\", \"nat\", \"bat\"]    \n",
    "r=[]\n",
    "for i in l:\n",
    "    k=[]\n",
    "    for j in l:\n",
    "        if sorted(i)==sorted(j):\n",
    "            k.append(j)\n",
    "    if k not in r:                \n",
    "        r.append(k)\n",
    "print(r)  "
   ]
  }
 ],
 "metadata": {
  "language_info": {
   "codemirror_mode": {
    "name": "ipython",
    "version": 3
   },
   "file_extension": ".py",
   "mimetype": "text/x-python",
   "name": "python",
   "nbconvert_exporter": "python",
   "pygments_lexer": "ipython3",
   "version": "3.8.2-final"
  },
  "orig_nbformat": 2,
  "kernelspec": {
   "name": "python38264bit2d5236eee77a4df4ac120aaa40c7d773",
   "display_name": "Python 3.8.2 64-bit"
  }
 },
 "nbformat": 4,
 "nbformat_minor": 2
}